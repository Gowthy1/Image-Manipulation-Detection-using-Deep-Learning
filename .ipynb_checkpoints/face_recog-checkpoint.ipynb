{
 "cells": [
  {
   "cell_type": "code",
   "execution_count": null,
   "metadata": {},
   "outputs": [],
   "source": [
    "import cv2\n"
   ]
  },
  {
   "cell_type": "code",
   "execution_count": 2,
   "metadata": {},
   "outputs": [],
   "source": [
    "import cv2"
   ]
  },
  {
   "cell_type": "code",
   "execution_count": null,
   "metadata": {},
   "outputs": [],
   "source": [
    "import numpy as np\n",
    "import cv2\n",
    "img= cv2.imread('C:\\\\Users\\\\pughazhenthi\\\\Pictures\\\\Snapseed\\\\pughal.jpeg',0)\n",
    "cv2.imshow('image',img)\n",
    "cv2.waitKey(0)\n",
    "cv2.destroyAllWindows()"
   ]
  },
  {
   "cell_type": "code",
   "execution_count": null,
   "metadata": {},
   "outputs": [],
   "source": [
    "import numpy as np\n",
    "import cv2\n",
    "\n",
    "new_path = 'C:\\\\Users\\\\pughazhenthi\\\\Anaconda3\\\\Library\\\\etc\\\\haarcascades\\\\'\n",
    "face_cascade = cv2.CascadeClassifier(new_path + 'haarcascade_frontalface_default.xml')\n",
    "eye_cascade = cv2.CascadeClassifier(new_path + 'haarcascade_eye.xml')\n",
    "\n",
    "img = cv2.imread('C:\\\\Users\\\\pughazhenthi\\\\Desktop\\\\Project\\\\test1.jpeg')\n",
    "gray = cv2.cvtColor(img,cv2.COLOR_BGR2GRAY)\n",
    "\n",
    "faces = face_cascade.detectMultiScale(gray, 1.3, 5)\n",
    "for (x,y,w,h) in faces:\n",
    "    img = cv2.rectangle(img,(x,y),(x+w,y+h),(255,0,0),2)\n",
    "    roi_gray = gray[y:y+h, x:x+w]\n",
    "    roi_color = img[y:y+h, x:x+w]\n",
    "    eyes = eye_cascade.detectMultiScale(roi_gray)\n",
    "    for (ex,ey,ew,eh) in eyes:\n",
    "        cv2.rectangle(roi_color,(ex,ey),(ex+ew,ey+eh),(0,255,0),2)\n",
    "\n",
    "cv2.imshow('img',img)\n",
    "cv2.waitKey(0)\n",
    "cv2.destroyAllWindows()"
   ]
  },
  {
   "cell_type": "code",
   "execution_count": 3,
   "metadata": {},
   "outputs": [
    {
     "ename": "SyntaxError",
     "evalue": "Missing parentheses in call to 'print'. Did you mean print(__doc__)? (<ipython-input-3-08240db3a898>, line 23)",
     "output_type": "error",
     "traceback": [
      "\u001b[1;36m  File \u001b[1;32m\"<ipython-input-3-08240db3a898>\"\u001b[1;36m, line \u001b[1;32m23\u001b[0m\n\u001b[1;33m    print __doc__\u001b[0m\n\u001b[1;37m                ^\u001b[0m\n\u001b[1;31mSyntaxError\u001b[0m\u001b[1;31m:\u001b[0m Missing parentheses in call to 'print'. Did you mean print(__doc__)?\n"
     ]
    }
   ],
   "source": [
    "import numpy as np\n",
    "import cv2\n",
    " \n",
    "def build_filters():\n",
    " filters = []\n",
    " ksize = 31\n",
    " for theta in np.arange(0, np.pi, np.pi / 16):\n",
    "     kern = cv2.getGaborKernel((ksize, ksize), 4.0, theta, 10.0, 0.5, 0, ktype=cv2.CV_32F)\n",
    "     kern /= 1.5*kern.sum()\n",
    "     filters.append(kern)\n",
    " return filters\n",
    " \n",
    "def process(img, filters):\n",
    " accum = np.zeros_like(img)\n",
    " for kern in filters:\n",
    "     fimg = cv2.filter2D(img, cv2.CV_8UC3, kern)\n",
    "     np.maximum(accum, fimg, accum)\n",
    " return accum\n",
    " \n",
    "if __name__ == '__main__':\n",
    " import sys\n",
    " \n",
    " print __doc__\n",
    " try:\n",
    " img_fn = sys.argv[1]\n",
    " except:\n",
    " img_fn = 'test.png'\n",
    " \n",
    " img = cv2.imread('C:\\\\Users\\\\pughazhenthi\\\\Desktop\\\\Project\\\\test1.jpeg')\n",
    " if img is None:\n",
    " print 'Failed to load image file:', img_fn\n",
    " sys.exit(1)\n",
    " \n",
    " filters = build_filters()\n",
    " \n",
    " res1 = process(img, filters)\n",
    " cv2.imshow('result', res1)\n",
    " cv2.waitKey(0)\n",
    " cv2.destroyAllWindows()"
   ]
  },
  {
   "cell_type": "code",
   "execution_count": null,
   "metadata": {},
   "outputs": [],
   "source": []
  }
 ],
 "metadata": {
  "kernelspec": {
   "display_name": "Python 3",
   "language": "python",
   "name": "python3"
  },
  "language_info": {
   "codemirror_mode": {
    "name": "ipython",
    "version": 3
   },
   "file_extension": ".py",
   "mimetype": "text/x-python",
   "name": "python",
   "nbconvert_exporter": "python",
   "pygments_lexer": "ipython3",
   "version": "3.7.0"
  }
 },
 "nbformat": 4,
 "nbformat_minor": 2
}
